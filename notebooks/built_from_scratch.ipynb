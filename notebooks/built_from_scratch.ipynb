{
 "cells": [
  {
   "cell_type": "code",
   "execution_count": null,
   "metadata": {
    "trusted": true
   },
   "outputs": [],
   "source": [
    "!wget https://raw.githubusercontent.com/karpathy/char-rnn/master/data/tinyshakespeare/input.txt"
   ]
  },
  {
   "cell_type": "code",
   "execution_count": null,
   "metadata": {
    "trusted": true
   },
   "outputs": [],
   "source": [
    "with open('input.txt' , 'r' , encoding='utf-8') as f:\n",
    "    text = f.read()"
   ]
  },
  {
   "cell_type": "code",
   "execution_count": null,
   "metadata": {
    "trusted": true
   },
   "outputs": [],
   "source": [
    "import torch \n",
    "dropout = 0.2\n",
    "device = 'cuda' if torch.cuda.is_available() else 'cpu'\n"
   ]
  },
  {
   "cell_type": "code",
   "execution_count": null,
   "metadata": {
    "trusted": true
   },
   "outputs": [],
   "source": [
    "batch_size = 64\n",
    "block_size = 256\n",
    "max_iters = 5000\n",
    "eval_interval = 500\n",
    "learning_rate = 3e-4\n",
    "eval_iters = 200\n",
    "n_embd = 384\n",
    "n_head = 6\n",
    "n_layer = 6\n",
    "dropout = 0.0"
   ]
  },
  {
   "cell_type": "code",
   "execution_count": null,
   "metadata": {
    "trusted": true
   },
   "outputs": [],
   "source": [
    "# length of text\n",
    "print(\"the length of the text is \" , len(text))"
   ]
  },
  {
   "cell_type": "code",
   "execution_count": null,
   "metadata": {
    "trusted": true
   },
   "outputs": [],
   "source": [
    "# starting few lines\n",
    "print(text[:100])"
   ]
  },
  {
   "cell_type": "code",
   "execution_count": null,
   "metadata": {
    "trusted": true
   },
   "outputs": [],
   "source": [
    "# All the uniqure characters in the text\n",
    "chars = sorted(list(set(text)))\n",
    "vocab_size = len(chars)\n",
    "print(vocab_size)\n",
    "print(''.join(chars))"
   ]
  },
  {
   "cell_type": "code",
   "execution_count": null,
   "metadata": {
    "trusted": true
   },
   "outputs": [],
   "source": [
    "stoi = {char:i for i,char in enumerate(chars)}\n",
    "itos = {i:char for i,char in enumerate(chars)}\n",
    "encode = lambda s : [stoi[c] for c in s]\n",
    "decode = lambda s : ''.join([itos[c] for c in s])\n",
    "\n",
    "print(encode(\"hello there\"))\n",
    "print(decode(encode(\"hello there\")))"
   ]
  },
  {
   "cell_type": "code",
   "execution_count": null,
   "metadata": {
    "trusted": true
   },
   "outputs": [],
   "source": [
    "import torch \n",
    "data = torch.tensor(encode(text) , dtype = torch.long)\n",
    "print(data.shape , data.dtype)\n",
    "print(data[:100])"
   ]
  },
  {
   "cell_type": "code",
   "execution_count": null,
   "metadata": {
    "trusted": true
   },
   "outputs": [],
   "source": [
    "n = int(0.9*len(data))\n",
    "train_data = data[:n]\n",
    "val_data = data[n:]"
   ]
  },
  {
   "cell_type": "code",
   "execution_count": null,
   "metadata": {
    "trusted": true
   },
   "outputs": [],
   "source": [
    "train_data.shape"
   ]
  },
  {
   "cell_type": "code",
   "execution_count": null,
   "metadata": {
    "trusted": true
   },
   "outputs": [],
   "source": [
    "train_data[:block_size+1]"
   ]
  },
  {
   "cell_type": "code",
   "execution_count": null,
   "metadata": {
    "trusted": true
   },
   "outputs": [],
   "source": [
    "x = train_data[:block_size]\n",
    "y = train_data[1:block_size+1]\n",
    "for t in range(block_size):\n",
    "    context = x[:t+1]\n",
    "    target = y[t]\n",
    "    print(f\"When input {context} then ouput is {target}\")"
   ]
  },
  {
   "cell_type": "code",
   "execution_count": null,
   "metadata": {
    "trusted": true
   },
   "outputs": [],
   "source": [
    "torch.manual_seed(1337)\n",
    "# batch_size = 4\n",
    "# block_size = 8 \n",
    "\n",
    "def get_batch(split):\n",
    "    data = train_data if split=='train' else val_data \n",
    "    ix = torch.randint(len(data)-block_size , (batch_size,))\n",
    "    x = torch.stack([data[i:i+block_size] for i in ix])\n",
    "    y = torch.stack([data[i+1:i+1+block_size] for i in ix])\n",
    "    return x ,y \n",
    "\n",
    "xb , yb = get_batch('train')\n",
    "print(xb.shape)\n",
    "print(xb)\n",
    "print(yb.shape)\n",
    "print(yb)\n",
    "\n",
    "for b in range(batch_size) :\n",
    "    for t in range(block_size):\n",
    "        context = xb[b, :t+1]\n",
    "        target = yb[b,t]\n",
    "        # print(f\"When input is {context.tolist()} then target is {target.tolist()}\")"
   ]
  },
  {
   "cell_type": "code",
   "execution_count": null,
   "metadata": {
    "trusted": true
   },
   "outputs": [],
   "source": [
    "print(xb) # input to transformer"
   ]
  },
  {
   "cell_type": "code",
   "execution_count": null,
   "metadata": {
    "trusted": true
   },
   "outputs": [],
   "source": [
    "x.shape"
   ]
  },
  {
   "cell_type": "code",
   "execution_count": null,
   "metadata": {
    "trusted": true
   },
   "outputs": [],
   "source": [
    "import torch.nn as nn\n",
    "from torch.nn import functional as F\n",
    "torch.manual_seed(1337)\n",
    "\n",
    "class BigramLanguageModel(nn.Module):\n",
    "\n",
    "    def __init__(self , vocab_size):\n",
    "        super().__init__() # neccessary for setup of base class\n",
    "        self.token_embedding_table = nn.Embedding(vocab_size , vocab_size)\n",
    "\n",
    "    def forward(self , idx , targets=None):\n",
    "        logits = self.token_embedding_table(idx)\n",
    "\n",
    "        if targets==None:\n",
    "            loss = None\n",
    "        else:\n",
    "            B,T,C = logits.shape\n",
    "            logits = logits.view(B*T,C)\n",
    "            targets = targets.view(B*T)\n",
    "            loss = F.cross_entropy(logits , targets)\n",
    "            # idx = tensor([[17,  0,  3, 14],\n",
    "                          # [ 4, 13,  1, 12]])\n",
    "\n",
    "        return logits , loss\n",
    "    def generate(self , idx , max_new_tokens):\n",
    "        # idx = B,T array of indices in current context\n",
    "        for _ in range(max_new_tokens):\n",
    "            logits , loss = self(idx)\n",
    "            logits = logits[:,-1,:] # becomes B,C as it takes last token in each seq\n",
    "            probs = F.softmax(logits , dim=-1)\n",
    "            idx_next = torch.multinomial(probs , num_samples = 1) # B,1\n",
    "            idx = torch.cat((idx , idx_next) , dim=1) # B,T+1\n",
    "        return idx\n",
    "\n",
    "m = BigramLanguageModel(vocab_size)\n",
    "logits , loss = m(xb , yb)\n",
    "print(logits.shape)\n",
    "print(loss)\n",
    "\n",
    "print(decode(m.generate(idx = torch.zeros((1,1) , dtype = torch.long) , max_new_tokens=100)[0].tolist()))"
   ]
  },
  {
   "cell_type": "code",
   "execution_count": null,
   "metadata": {
    "trusted": true
   },
   "outputs": [],
   "source": [
    "optimizer = torch.optim.Adam(m.parameters() , lr = 1e-3)"
   ]
  },
  {
   "cell_type": "code",
   "execution_count": null,
   "metadata": {
    "trusted": true
   },
   "outputs": [],
   "source": [
    "# batch_size = 32 \n",
    "for steps in range(1000):\n",
    "\n",
    "    xb, yb = get_batch('train')\n",
    "    logits , loss = m(xb , yb)\n",
    "    optimizer.zero_grad(set_to_none=True)\n",
    "    loss.backward()\n",
    "    optimizer.step()\n",
    "print(loss.item())"
   ]
  },
  {
   "cell_type": "code",
   "execution_count": null,
   "metadata": {
    "trusted": true
   },
   "outputs": [],
   "source": [
    "print(decode(m.generate(idx = torch.zeros((1,1) , dtype = torch.long) , max_new_tokens=500)[0].tolist()))"
   ]
  },
  {
   "cell_type": "code",
   "execution_count": null,
   "metadata": {
    "trusted": true
   },
   "outputs": [],
   "source": [
    "torch.arange(10)"
   ]
  },
  {
   "cell_type": "markdown",
   "metadata": {},
   "source": [
    "**SELF ATTENTION PART**"
   ]
  },
  {
   "cell_type": "code",
   "execution_count": null,
   "metadata": {
    "trusted": true
   },
   "outputs": [],
   "source": [
    "torch.manual_seed(1337)\n",
    "# B,T,C = 4,8,2\n",
    "B,T,C = 4,8,32\n",
    "x = torch.randn(B,T,C)\n",
    "x.shape"
   ]
  },
  {
   "cell_type": "code",
   "execution_count": null,
   "metadata": {
    "trusted": true
   },
   "outputs": [],
   "source": [
    "# 1st Way\n",
    "xbow = torch.zeros((B,T,C))\n",
    "for b in range(B):\n",
    "    for t in range(T):\n",
    "        xprev = x[b,:t+1]\n",
    "        xbow[b,t] = torch.mean(xprev,0)"
   ]
  },
  {
   "cell_type": "code",
   "execution_count": null,
   "metadata": {
    "trusted": true
   },
   "outputs": [],
   "source": [
    "xbow[0][0]"
   ]
  },
  {
   "cell_type": "code",
   "execution_count": null,
   "metadata": {
    "trusted": true
   },
   "outputs": [],
   "source": [
    "# 2nd way\n",
    "wei = torch.tril(torch.ones(T,T))\n",
    "wei = wei/wei.sum(1, keepdim=True)\n",
    "xbow2 = wei@x # T,T x (B),T,C -> B,T,C\n",
    "# xbow2[0]"
   ]
  },
  {
   "cell_type": "code",
   "execution_count": null,
   "metadata": {
    "trusted": true
   },
   "outputs": [],
   "source": [
    "#3rd way -> Softmax\n",
    "tril = torch.tril(torch.ones(T,T))\n",
    "wei = torch.zeros((T,T))\n",
    "wei = wei.masked_fill(tril==0 ,float('-inf'))\n",
    "wei = F.softmax(wei,dim=-1)\n",
    "xbow3 = wei@x\n",
    "# xbow3[0]"
   ]
  },
  {
   "cell_type": "code",
   "execution_count": null,
   "metadata": {
    "trusted": true
   },
   "outputs": [],
   "source": [
    "# xbow[0]\n",
    "# xbow2[0]\n",
    "# xbow3[0]\n",
    "torch.allclose(xbow[1],xbow2[1])\n",
    "print(torch.allclose(xbow3, xbow2, atol=1e-6))"
   ]
  },
  {
   "cell_type": "code",
   "execution_count": null,
   "metadata": {
    "trusted": true
   },
   "outputs": [],
   "source": [
    "device = 'cuda' if torch.cuda.is_available() else 'cpu'\n"
   ]
  },
  {
   "cell_type": "code",
   "execution_count": null,
   "metadata": {
    "trusted": true
   },
   "outputs": [],
   "source": [
    "\n",
    "class Head(nn.Module):\n",
    "\n",
    "    def __init__(self , head_size):\n",
    "        super().__init__() # neccessary for setup of base class\n",
    "        self.key = nn.Linear(n_embd , head_size , bias=False)\n",
    "        self.query = nn.Linear(n_embd , head_size , bias=False)\n",
    "        self.value = nn.Linear(n_embd , head_size , bias=False)\n",
    "        self.register_buffer('tril' , torch.tril(torch.ones(block_size , block_size)))\n",
    "\n",
    "        self.dropout = nn.Dropout(dropout)\n",
    "\n",
    "    def forward(self , x):\n",
    "        B,T,C = x.shape \n",
    "        k = self.key(x)\n",
    "        q = self.query(x)\n",
    "        wei = q@k.transpose(-1,-2) * C**-0.5\n",
    "        wei = wei.masked_fill(self.tril[:T,:T]==0 , float('-inf'))\n",
    "        wei = F.softmax(wei , dim=-1)\n",
    "        v = self.value(x)\n",
    "        out = wei @ v \n",
    "        return out "
   ]
  },
  {
   "cell_type": "code",
   "execution_count": null,
   "metadata": {
    "trusted": true
   },
   "outputs": [],
   "source": [
    "# earlier were sedning all embeddings of the token to single head, \n",
    "# now we will divide the embeddings and send them to different heads ,to look for different things\n",
    "\n",
    "class MultiHeadAttention(nn.Module):\n",
    "\n",
    "    def __init__(self , num_heads , head_size):\n",
    "        super().__init__()\n",
    "        self.heads = nn.ModuleList([Head(head_size) for _ in range(num_heads)])\n",
    "        self.proj = nn.Linear(n_embd , n_embd)\n",
    "        self.dropout = nn.Dropout(dropout)\n",
    "    def forward(self,x):\n",
    "        out = torch.cat([h(x) for h in self.heads], dim=-1)\n",
    "        out = self.dropout(self.proj(out))\n",
    "        return out"
   ]
  },
  {
   "cell_type": "code",
   "execution_count": null,
   "metadata": {
    "trusted": true
   },
   "outputs": [],
   "source": [
    "class FeedForward(nn.Module):\n",
    "    def __init__(self , n_embd):\n",
    "        super().__init__()\n",
    "        self.net = nn.Sequential(\n",
    "            nn.Linear(n_embd, 4*n_embd),\n",
    "            nn.ReLU(),\n",
    "            nn.Linear(4*n_embd, n_embd),\n",
    "            nn.Dropout(dropout),\n",
    "        )\n",
    "\n",
    "    def forward(self,x):\n",
    "        return self.net(x)"
   ]
  },
  {
   "cell_type": "code",
   "execution_count": null,
   "metadata": {
    "trusted": true
   },
   "outputs": [],
   "source": [
    "class LayerNorm:\n",
    "    def __init__(self , dim , eps = 1e-5 , momentum=0.1):\n",
    "        self.eps = eps \n",
    "        self.gamma = torch.ones(dim)\n",
    "        self.beta = torch.zeros(dim)\n",
    "    def __call__(self ,x):\n",
    "        xmean = x.mean(1 , keepdim=True) # batch mean \n",
    "        xvar = x.var(1, keepdim=True)  # batch var\n",
    "        xhat = (x-xmean)/torch.sqrt(xvar+self.eps)\n",
    "        self.out = self.gamma *xhat + self.beta\n",
    "        return self.out\n",
    "    def parameters(self):\n",
    "        return [self.gamma , self.beta]"
   ]
  },
  {
   "cell_type": "code",
   "execution_count": null,
   "metadata": {
    "trusted": true
   },
   "outputs": [],
   "source": [
    "class Block(nn.Module):\n",
    "\n",
    "    def __init__(self,n_embd , n_head):\n",
    "\n",
    "        super().__init__()\n",
    "        head_size = n_embd//n_head ; \n",
    "        self.sa = MultiHeadAttention(n_head, head_size)\n",
    "        self.ffwd = FeedForward(n_embd)\n",
    "        self.ln1 = nn.LayerNorm(n_embd)\n",
    "        self.ln2 = nn.LayerNorm(n_embd)\n",
    "    def forward(self , x):\n",
    "        x = x+self.sa(self.ln1(x))\n",
    "        x = x+self.ffwd(self.ln2(x))\n",
    "        return x"
   ]
  },
  {
   "cell_type": "code",
   "execution_count": null,
   "metadata": {
    "trusted": true
   },
   "outputs": [],
   "source": [
    "# batch_size = 32 \n",
    "# block_size = 8\n",
    "\n",
    "import torch.nn as nn\n",
    "from torch.nn import functional as F\n",
    "torch.manual_seed(1337)\n",
    "\n",
    "class BigramLanguageModel(nn.Module):\n",
    "\n",
    "    def __init__(self):\n",
    "        super().__init__() # neccessary for setup of base class\n",
    "        self.token_embedding_table = nn.Embedding(vocab_size , n_embd) # lookup table for embedding\n",
    "        self.position_embedding_table = nn.Embedding(block_size , n_embd) #T = block_size\n",
    "        # self.sa_head = Head(n_embd)  # keeping head_size same as embedding size \n",
    "        # self.sa_heads = MultiHeadAttention(4, n_embd//4) \n",
    "        # self.ffwd = FeedForward(n_embd)\n",
    "        # self.blocks = nn.Sequential(Block(n_embd , n_head),Block(n_embd , n_head),Block(n_embd , n_head)\n",
    "        # )\n",
    "        self.blocks = nn.Sequential(*[Block(n_embd, n_head=n_head) for _ in range(n_layer)])\n",
    "\n",
    "        self.lm_head = nn.Linear(n_embd , vocab_size)\n",
    "    def forward(self , idx , targets=None):\n",
    "        B,T = idx.shape\n",
    "        tok_emb = self.token_embedding_table(idx) # (b,t,emb)\n",
    "        # pos_emb = self.position_embedding_table(torch.arange(T))\n",
    "        pos_emb = self.position_embedding_table(torch.arange(T, device=idx.device))\n",
    "        x = tok_emb+pos_emb\n",
    "        # x = self.sa_heads(x)\n",
    "        # x = self.ffwd(x)\n",
    "        x = self.blocks(x)\n",
    "        logits = self.lm_head(x) # (b,t,vocab_size)\n",
    "        \n",
    "        if targets==None:\n",
    "            loss = None\n",
    "        else:\n",
    "            B,T,C = logits.shape\n",
    "            logits = logits.view(B*T,C)\n",
    "            targets = targets.view(B*T)\n",
    "            loss = F.cross_entropy(logits , targets)\n",
    "            # idx = tensor([[17,  0,  3, 14],\n",
    "                          # [ 4, 13,  1, 12]])\n",
    "\n",
    "        return logits , loss\n",
    "    def generate(self , idx , max_new_tokens):\n",
    "        # idx = B,T array of indices in current context\n",
    "        for _ in range(max_new_tokens):\n",
    "            idx_cond = idx[:, -block_size:]\n",
    "            logits , loss = self(idx_cond)\n",
    "            logits = logits[:,-1,:] # becomes B,C as it takes last token in each seq\n",
    "            probs = F.softmax(logits , dim=-1)\n",
    "            idx_next = torch.multinomial(probs , num_samples = 1) # B,1\n",
    "            idx = torch.cat((idx , idx_next) , dim=1) # B,T+1\n",
    "        return idx\n",
    "\n",
    "# m = BigramLanguageModel()\n",
    "m = BigramLanguageModel().to(device)\n",
    "xb = xb.to(device)\n",
    "yb = yb.to(device)\n",
    "logits , loss = m(xb , yb)\n",
    "print(logits.shape)\n",
    "print(loss)\n",
    "\n",
    "print(decode(m.generate(idx = torch.zeros((1,1) , dtype = torch.long).to(device) , max_new_tokens=100)[0].tolist()))"
   ]
  },
  {
   "cell_type": "code",
   "execution_count": null,
   "metadata": {
    "trusted": true
   },
   "outputs": [],
   "source": [
    "optimizer = torch.optim.Adam(m.parameters() , lr = learning_rate)"
   ]
  },
  {
   "cell_type": "code",
   "execution_count": null,
   "metadata": {
    "trusted": true
   },
   "outputs": [],
   "source": [
    "# earlier it was : 2.572469472885132\n",
    "for steps in range(5000):\n",
    "    xb, yb = get_batch('train')\n",
    "    xb = xb.to(device)\n",
    "    yb = yb.to(device)\n",
    "    logits , loss = m(xb , yb)\n",
    "    optimizer.zero_grad(set_to_none=True)\n",
    "    loss.backward()\n",
    "    optimizer.step()\n",
    "    print(steps,loss.item())\n",
    "\n",
    "# BELOW results are when iterations were 10000\n",
    "#now it is : 2.4223456382751465 , after just creating 32 size embeddings\n",
    "#now it is : 2.516273260116577  , after using positional embedd, not that useful without attention\n",
    "# now it is : 2.4638516902923584, \n",
    "# now it is : 2.36381196975708 , after using Self attention single head \n",
    "# now it is : 2.161557674407959 , after using multi self attention heads (4 heads , but same no. of parameters as single head)\n",
    "# now it is : 2.1757524013519287 , after adding feeedforward\n",
    "# now it is : 2.199948787689209, after me made it pass throught the network 3 times, its having optimization issues\n",
    "\n",
    "# to solve optimization issues , we use Add(Residual) and Norm(LayerNorm)\n",
    "# now it is : 2.0240368843078613, after we made it pass throught Add-residual network and projection layer\n",
    "\n",
    "# layer norm prevents convergence to single token,Feature domination, Exploding or vanishing activations etc.\n",
    "# now it is : 2.0245840549468994, after using LayerNorm\n",
    "\n",
    "# after scaling the numbers we got : 1.6635 error after only running for 5000 iterations "
   ]
  },
  {
   "cell_type": "markdown",
   "metadata": {},
   "source": [
    "single head attention : Each token emits exactly one query vector <br>\n",
    "Multi-head attention  : Each token actually emits multiple query vectors — one per attention head"
   ]
  },
  {
   "cell_type": "code",
   "execution_count": null,
   "metadata": {
    "trusted": true
   },
   "outputs": [],
   "source": [
    "print(decode(m.generate(idx = torch.zeros((1,1) , dtype = torch.long).to(device) , max_new_tokens=2000)[0].tolist()))"
   ]
  }
 ],
 "metadata": {
  "kaggle": {
   "accelerator": "gpu",
   "dataSources": [],
   "dockerImageVersionId": 31041,
   "isGpuEnabled": true,
   "isInternetEnabled": true,
   "language": "python",
   "sourceType": "notebook"
  },
  "kernelspec": {
   "display_name": "Python 3",
   "language": "python",
   "name": "python3"
  },
  "language_info": {
   "codemirror_mode": {
    "name": "ipython",
    "version": 3
   },
   "file_extension": ".py",
   "mimetype": "text/x-python",
   "name": "python",
   "nbconvert_exporter": "python",
   "pygments_lexer": "ipython3",
   "version": "3.11.11"
  }
 },
 "nbformat": 4,
 "nbformat_minor": 4
}
